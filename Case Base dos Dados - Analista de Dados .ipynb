{
 "cells": [
  {
   "cell_type": "markdown",
   "id": "d5048ef5",
   "metadata": {},
   "source": [
    "# Extração do Banco de Dados "
   ]
  },
  {
   "cell_type": "markdown",
   "id": "03792557",
   "metadata": {},
   "source": [
    " BASE DE DADOS do DATALAKE => **Base dos Dados** \n",
    "    \n",
    " **Escopo:**\n",
    " \n",
    " - Base: Sistema de Informações sobre Mortalidade (SIM)\n",
    " - Criado por: DATASUS\n",
    " - Organização: MS\n",
    " - Cobertura Temporal: 1996-2020"
   ]
  },
  {
   "cell_type": "code",
   "execution_count": 5,
   "id": "2fb8e272",
   "metadata": {},
   "outputs": [],
   "source": [
    "import basedosdados as bd\n",
    "import pandas as pd\n",
    "import numpy as np\n",
    "import seaborn as sns\n",
    "import matplotlib.pyplot as plt\n",
    "# Definindo tema\n",
    "sns.set_theme(style='darkgrid')"
   ]
  },
  {
   "cell_type": "code",
   "execution_count": 6,
   "id": "8b5adf49",
   "metadata": {},
   "outputs": [],
   "source": [
    "dataset = 'br_ms_sim'\n",
    "project = 'cellular-arbor-354201'"
   ]
  },
  {
   "cell_type": "code",
   "execution_count": 7,
   "id": "db3aefde",
   "metadata": {},
   "outputs": [
    {
     "name": "stderr",
     "output_type": "stream",
     "text": [
      "Downloading: 100%|██████████| 572/572 [00:00<00:00, 1719.21rows/s]\n"
     ]
    }
   ],
   "source": [
    "# Carregar base de dados \n",
    "\n",
    "df_dict = bd.read_table(dataset_id=dataset,\n",
    "table_id='dicionario',\n",
    "billing_project_id=project)"
   ]
  },
  {
   "cell_type": "code",
   "execution_count": 8,
   "id": "16ba01d6",
   "metadata": {},
   "outputs": [
    {
     "data": {
      "text/html": [
       "<div>\n",
       "<style scoped>\n",
       "    .dataframe tbody tr th:only-of-type {\n",
       "        vertical-align: middle;\n",
       "    }\n",
       "\n",
       "    .dataframe tbody tr th {\n",
       "        vertical-align: top;\n",
       "    }\n",
       "\n",
       "    .dataframe thead th {\n",
       "        text-align: right;\n",
       "    }\n",
       "</style>\n",
       "<table border=\"1\" class=\"dataframe\">\n",
       "  <thead>\n",
       "    <tr style=\"text-align: right;\">\n",
       "      <th></th>\n",
       "      <th>id_tabela</th>\n",
       "      <th>coluna</th>\n",
       "      <th>chave</th>\n",
       "      <th>cobertura_temporal</th>\n",
       "      <th>valor</th>\n",
       "    </tr>\n",
       "  </thead>\n",
       "  <tbody>\n",
       "    <tr>\n",
       "      <th>0</th>\n",
       "      <td>microdados</td>\n",
       "      <td>tipo_obito</td>\n",
       "      <td>1</td>\n",
       "      <td>1996(1)2019</td>\n",
       "      <td>Fetal</td>\n",
       "    </tr>\n",
       "    <tr>\n",
       "      <th>1</th>\n",
       "      <td>microdados</td>\n",
       "      <td>tipo_obito</td>\n",
       "      <td>2</td>\n",
       "      <td>1996(1)2019</td>\n",
       "      <td>Não-fetal</td>\n",
       "    </tr>\n",
       "    <tr>\n",
       "      <th>2</th>\n",
       "      <td>microdados</td>\n",
       "      <td>naturalidade</td>\n",
       "      <td>1</td>\n",
       "      <td>1996(1)2019</td>\n",
       "      <td>ABU DABI</td>\n",
       "    </tr>\n",
       "    <tr>\n",
       "      <th>3</th>\n",
       "      <td>microdados</td>\n",
       "      <td>naturalidade</td>\n",
       "      <td>2</td>\n",
       "      <td>1996(1)2019</td>\n",
       "      <td>ACORES</td>\n",
       "    </tr>\n",
       "    <tr>\n",
       "      <th>4</th>\n",
       "      <td>microdados</td>\n",
       "      <td>naturalidade</td>\n",
       "      <td>3</td>\n",
       "      <td>1996(1)2019</td>\n",
       "      <td>AFEGANISTAO</td>\n",
       "    </tr>\n",
       "    <tr>\n",
       "      <th>...</th>\n",
       "      <td>...</td>\n",
       "      <td>...</td>\n",
       "      <td>...</td>\n",
       "      <td>...</td>\n",
       "      <td>...</td>\n",
       "    </tr>\n",
       "    <tr>\n",
       "      <th>567</th>\n",
       "      <td>municipio_causa_idade_sexo_raca</td>\n",
       "      <td>raca_cor</td>\n",
       "      <td>4</td>\n",
       "      <td>1996(1)2019</td>\n",
       "      <td>Parda</td>\n",
       "    </tr>\n",
       "    <tr>\n",
       "      <th>568</th>\n",
       "      <td>municipio_causa_idade_sexo_raca</td>\n",
       "      <td>raca_cor</td>\n",
       "      <td>5</td>\n",
       "      <td>1996(1)2019</td>\n",
       "      <td>Indígena</td>\n",
       "    </tr>\n",
       "    <tr>\n",
       "      <th>569</th>\n",
       "      <td>municipio_causa_idade_sexo_raca</td>\n",
       "      <td>raca_cor</td>\n",
       "      <td>6</td>\n",
       "      <td>1996(1)2019</td>\n",
       "      <td>None</td>\n",
       "    </tr>\n",
       "    <tr>\n",
       "      <th>570</th>\n",
       "      <td>municipio_causa_idade_sexo_raca</td>\n",
       "      <td>raca_cor</td>\n",
       "      <td>7</td>\n",
       "      <td>1996(1)2019</td>\n",
       "      <td>None</td>\n",
       "    </tr>\n",
       "    <tr>\n",
       "      <th>571</th>\n",
       "      <td>municipio_causa_idade_sexo_raca</td>\n",
       "      <td>raca_cor</td>\n",
       "      <td>9</td>\n",
       "      <td>1996(1)2019</td>\n",
       "      <td>None</td>\n",
       "    </tr>\n",
       "  </tbody>\n",
       "</table>\n",
       "<p>572 rows × 5 columns</p>\n",
       "</div>"
      ],
      "text/plain": [
       "                           id_tabela        coluna chave cobertura_temporal  \\\n",
       "0                         microdados    tipo_obito     1        1996(1)2019   \n",
       "1                         microdados    tipo_obito     2        1996(1)2019   \n",
       "2                         microdados  naturalidade     1        1996(1)2019   \n",
       "3                         microdados  naturalidade     2        1996(1)2019   \n",
       "4                         microdados  naturalidade     3        1996(1)2019   \n",
       "..                               ...           ...   ...                ...   \n",
       "567  municipio_causa_idade_sexo_raca      raca_cor     4        1996(1)2019   \n",
       "568  municipio_causa_idade_sexo_raca      raca_cor     5        1996(1)2019   \n",
       "569  municipio_causa_idade_sexo_raca      raca_cor     6        1996(1)2019   \n",
       "570  municipio_causa_idade_sexo_raca      raca_cor     7        1996(1)2019   \n",
       "571  municipio_causa_idade_sexo_raca      raca_cor     9        1996(1)2019   \n",
       "\n",
       "           valor  \n",
       "0          Fetal  \n",
       "1      Não-fetal  \n",
       "2       ABU DABI  \n",
       "3         ACORES  \n",
       "4    AFEGANISTAO  \n",
       "..           ...  \n",
       "567        Parda  \n",
       "568     Indígena  \n",
       "569         None  \n",
       "570         None  \n",
       "571         None  \n",
       "\n",
       "[572 rows x 5 columns]"
      ]
     },
     "execution_count": 8,
     "metadata": {},
     "output_type": "execute_result"
    }
   ],
   "source": [
    "df_dict"
   ]
  },
  {
   "cell_type": "code",
   "execution_count": 9,
   "id": "1c8669ac",
   "metadata": {},
   "outputs": [
    {
     "data": {
      "text/plain": [
       "Index(['id_tabela', 'coluna', 'chave', 'cobertura_temporal', 'valor'], dtype='object')"
      ]
     },
     "execution_count": 9,
     "metadata": {},
     "output_type": "execute_result"
    }
   ],
   "source": [
    "# Consultar colunas\n",
    "df_dict.columns"
   ]
  },
  {
   "cell_type": "code",
   "execution_count": 10,
   "id": "57ca26b0",
   "metadata": {},
   "outputs": [
    {
     "name": "stdout",
     "output_type": "stream",
     "text": [
      "<class 'pandas.core.frame.DataFrame'>\n",
      "RangeIndex: 572 entries, 0 to 571\n",
      "Data columns (total 5 columns):\n",
      " #   Column              Non-Null Count  Dtype \n",
      "---  ------              --------------  ----- \n",
      " 0   id_tabela           572 non-null    object\n",
      " 1   coluna              572 non-null    object\n",
      " 2   chave               572 non-null    object\n",
      " 3   cobertura_temporal  572 non-null    object\n",
      " 4   valor               453 non-null    object\n",
      "dtypes: object(5)\n",
      "memory usage: 22.5+ KB\n"
     ]
    }
   ],
   "source": [
    "# Verificar se há valores ausentes\n",
    "df_dict.info()"
   ]
  },
  {
   "cell_type": "code",
   "execution_count": 11,
   "id": "0b5ff019",
   "metadata": {},
   "outputs": [
    {
     "data": {
      "text/plain": [
       "id_tabela               0\n",
       "coluna                  0\n",
       "chave                   0\n",
       "cobertura_temporal      0\n",
       "valor                 119\n",
       "dtype: int64"
      ]
     },
     "execution_count": 11,
     "metadata": {},
     "output_type": "execute_result"
    }
   ],
   "source": [
    "# Verificar quantidade de valores ausentes\n",
    "df_dict.isnull().sum()"
   ]
  },
  {
   "cell_type": "code",
   "execution_count": 12,
   "id": "c4316dfd",
   "metadata": {},
   "outputs": [
    {
     "data": {
      "text/plain": [
       "119"
      ]
     },
     "execution_count": 12,
     "metadata": {},
     "output_type": "execute_result"
    }
   ],
   "source": [
    "# Confirmar total de valores ausentes\n",
    "df_dict.isnull().sum().sum()"
   ]
  },
  {
   "cell_type": "code",
   "execution_count": 13,
   "id": "6ae3e27a",
   "metadata": {},
   "outputs": [
    {
     "data": {
      "text/html": [
       "<div>\n",
       "<style scoped>\n",
       "    .dataframe tbody tr th:only-of-type {\n",
       "        vertical-align: middle;\n",
       "    }\n",
       "\n",
       "    .dataframe tbody tr th {\n",
       "        vertical-align: top;\n",
       "    }\n",
       "\n",
       "    .dataframe thead th {\n",
       "        text-align: right;\n",
       "    }\n",
       "</style>\n",
       "<table border=\"1\" class=\"dataframe\">\n",
       "  <thead>\n",
       "    <tr style=\"text-align: right;\">\n",
       "      <th></th>\n",
       "      <th>id_tabela</th>\n",
       "      <th>coluna</th>\n",
       "      <th>chave</th>\n",
       "      <th>cobertura_temporal</th>\n",
       "      <th>valor</th>\n",
       "    </tr>\n",
       "  </thead>\n",
       "  <tbody>\n",
       "    <tr>\n",
       "      <th>0</th>\n",
       "      <td>microdados</td>\n",
       "      <td>tipo_obito</td>\n",
       "      <td>1</td>\n",
       "      <td>1996(1)2019</td>\n",
       "      <td>Fetal</td>\n",
       "    </tr>\n",
       "    <tr>\n",
       "      <th>1</th>\n",
       "      <td>microdados</td>\n",
       "      <td>tipo_obito</td>\n",
       "      <td>2</td>\n",
       "      <td>1996(1)2019</td>\n",
       "      <td>Não-fetal</td>\n",
       "    </tr>\n",
       "    <tr>\n",
       "      <th>2</th>\n",
       "      <td>microdados</td>\n",
       "      <td>naturalidade</td>\n",
       "      <td>1</td>\n",
       "      <td>1996(1)2019</td>\n",
       "      <td>ABU DABI</td>\n",
       "    </tr>\n",
       "    <tr>\n",
       "      <th>3</th>\n",
       "      <td>microdados</td>\n",
       "      <td>naturalidade</td>\n",
       "      <td>2</td>\n",
       "      <td>1996(1)2019</td>\n",
       "      <td>ACORES</td>\n",
       "    </tr>\n",
       "    <tr>\n",
       "      <th>4</th>\n",
       "      <td>microdados</td>\n",
       "      <td>naturalidade</td>\n",
       "      <td>3</td>\n",
       "      <td>1996(1)2019</td>\n",
       "      <td>AFEGANISTAO</td>\n",
       "    </tr>\n",
       "    <tr>\n",
       "      <th>...</th>\n",
       "      <td>...</td>\n",
       "      <td>...</td>\n",
       "      <td>...</td>\n",
       "      <td>...</td>\n",
       "      <td>...</td>\n",
       "    </tr>\n",
       "    <tr>\n",
       "      <th>564</th>\n",
       "      <td>municipio_causa_idade_sexo_raca</td>\n",
       "      <td>raca_cor</td>\n",
       "      <td>1</td>\n",
       "      <td>1996(1)2019</td>\n",
       "      <td>Branca</td>\n",
       "    </tr>\n",
       "    <tr>\n",
       "      <th>565</th>\n",
       "      <td>municipio_causa_idade_sexo_raca</td>\n",
       "      <td>raca_cor</td>\n",
       "      <td>2</td>\n",
       "      <td>1996(1)2019</td>\n",
       "      <td>Preta</td>\n",
       "    </tr>\n",
       "    <tr>\n",
       "      <th>566</th>\n",
       "      <td>municipio_causa_idade_sexo_raca</td>\n",
       "      <td>raca_cor</td>\n",
       "      <td>3</td>\n",
       "      <td>1996(1)2019</td>\n",
       "      <td>Amarela</td>\n",
       "    </tr>\n",
       "    <tr>\n",
       "      <th>567</th>\n",
       "      <td>municipio_causa_idade_sexo_raca</td>\n",
       "      <td>raca_cor</td>\n",
       "      <td>4</td>\n",
       "      <td>1996(1)2019</td>\n",
       "      <td>Parda</td>\n",
       "    </tr>\n",
       "    <tr>\n",
       "      <th>568</th>\n",
       "      <td>municipio_causa_idade_sexo_raca</td>\n",
       "      <td>raca_cor</td>\n",
       "      <td>5</td>\n",
       "      <td>1996(1)2019</td>\n",
       "      <td>Indígena</td>\n",
       "    </tr>\n",
       "  </tbody>\n",
       "</table>\n",
       "<p>453 rows × 5 columns</p>\n",
       "</div>"
      ],
      "text/plain": [
       "                           id_tabela        coluna chave cobertura_temporal  \\\n",
       "0                         microdados    tipo_obito     1        1996(1)2019   \n",
       "1                         microdados    tipo_obito     2        1996(1)2019   \n",
       "2                         microdados  naturalidade     1        1996(1)2019   \n",
       "3                         microdados  naturalidade     2        1996(1)2019   \n",
       "4                         microdados  naturalidade     3        1996(1)2019   \n",
       "..                               ...           ...   ...                ...   \n",
       "564  municipio_causa_idade_sexo_raca      raca_cor     1        1996(1)2019   \n",
       "565  municipio_causa_idade_sexo_raca      raca_cor     2        1996(1)2019   \n",
       "566  municipio_causa_idade_sexo_raca      raca_cor     3        1996(1)2019   \n",
       "567  municipio_causa_idade_sexo_raca      raca_cor     4        1996(1)2019   \n",
       "568  municipio_causa_idade_sexo_raca      raca_cor     5        1996(1)2019   \n",
       "\n",
       "           valor  \n",
       "0          Fetal  \n",
       "1      Não-fetal  \n",
       "2       ABU DABI  \n",
       "3         ACORES  \n",
       "4    AFEGANISTAO  \n",
       "..           ...  \n",
       "564       Branca  \n",
       "565        Preta  \n",
       "566      Amarela  \n",
       "567        Parda  \n",
       "568     Indígena  \n",
       "\n",
       "[453 rows x 5 columns]"
      ]
     },
     "execution_count": 13,
     "metadata": {},
     "output_type": "execute_result"
    }
   ],
   "source": [
    "# Descartar linhas se houver algum valor NaN\n",
    "df_dict.dropna(axis = 0)"
   ]
  },
  {
   "cell_type": "code",
   "execution_count": 14,
   "id": "14725e03",
   "metadata": {},
   "outputs": [
    {
     "data": {
      "text/html": [
       "<div>\n",
       "<style scoped>\n",
       "    .dataframe tbody tr th:only-of-type {\n",
       "        vertical-align: middle;\n",
       "    }\n",
       "\n",
       "    .dataframe tbody tr th {\n",
       "        vertical-align: top;\n",
       "    }\n",
       "\n",
       "    .dataframe thead th {\n",
       "        text-align: right;\n",
       "    }\n",
       "</style>\n",
       "<table border=\"1\" class=\"dataframe\">\n",
       "  <thead>\n",
       "    <tr style=\"text-align: right;\">\n",
       "      <th></th>\n",
       "      <th>id_tabela</th>\n",
       "      <th>coluna</th>\n",
       "      <th>chave</th>\n",
       "      <th>cobertura_temporal</th>\n",
       "    </tr>\n",
       "  </thead>\n",
       "  <tbody>\n",
       "    <tr>\n",
       "      <th>0</th>\n",
       "      <td>microdados</td>\n",
       "      <td>tipo_obito</td>\n",
       "      <td>1</td>\n",
       "      <td>1996(1)2019</td>\n",
       "    </tr>\n",
       "    <tr>\n",
       "      <th>1</th>\n",
       "      <td>microdados</td>\n",
       "      <td>tipo_obito</td>\n",
       "      <td>2</td>\n",
       "      <td>1996(1)2019</td>\n",
       "    </tr>\n",
       "    <tr>\n",
       "      <th>2</th>\n",
       "      <td>microdados</td>\n",
       "      <td>naturalidade</td>\n",
       "      <td>1</td>\n",
       "      <td>1996(1)2019</td>\n",
       "    </tr>\n",
       "    <tr>\n",
       "      <th>3</th>\n",
       "      <td>microdados</td>\n",
       "      <td>naturalidade</td>\n",
       "      <td>2</td>\n",
       "      <td>1996(1)2019</td>\n",
       "    </tr>\n",
       "    <tr>\n",
       "      <th>4</th>\n",
       "      <td>microdados</td>\n",
       "      <td>naturalidade</td>\n",
       "      <td>3</td>\n",
       "      <td>1996(1)2019</td>\n",
       "    </tr>\n",
       "    <tr>\n",
       "      <th>...</th>\n",
       "      <td>...</td>\n",
       "      <td>...</td>\n",
       "      <td>...</td>\n",
       "      <td>...</td>\n",
       "    </tr>\n",
       "    <tr>\n",
       "      <th>567</th>\n",
       "      <td>municipio_causa_idade_sexo_raca</td>\n",
       "      <td>raca_cor</td>\n",
       "      <td>4</td>\n",
       "      <td>1996(1)2019</td>\n",
       "    </tr>\n",
       "    <tr>\n",
       "      <th>568</th>\n",
       "      <td>municipio_causa_idade_sexo_raca</td>\n",
       "      <td>raca_cor</td>\n",
       "      <td>5</td>\n",
       "      <td>1996(1)2019</td>\n",
       "    </tr>\n",
       "    <tr>\n",
       "      <th>569</th>\n",
       "      <td>municipio_causa_idade_sexo_raca</td>\n",
       "      <td>raca_cor</td>\n",
       "      <td>6</td>\n",
       "      <td>1996(1)2019</td>\n",
       "    </tr>\n",
       "    <tr>\n",
       "      <th>570</th>\n",
       "      <td>municipio_causa_idade_sexo_raca</td>\n",
       "      <td>raca_cor</td>\n",
       "      <td>7</td>\n",
       "      <td>1996(1)2019</td>\n",
       "    </tr>\n",
       "    <tr>\n",
       "      <th>571</th>\n",
       "      <td>municipio_causa_idade_sexo_raca</td>\n",
       "      <td>raca_cor</td>\n",
       "      <td>9</td>\n",
       "      <td>1996(1)2019</td>\n",
       "    </tr>\n",
       "  </tbody>\n",
       "</table>\n",
       "<p>572 rows × 4 columns</p>\n",
       "</div>"
      ],
      "text/plain": [
       "                           id_tabela        coluna chave cobertura_temporal\n",
       "0                         microdados    tipo_obito     1        1996(1)2019\n",
       "1                         microdados    tipo_obito     2        1996(1)2019\n",
       "2                         microdados  naturalidade     1        1996(1)2019\n",
       "3                         microdados  naturalidade     2        1996(1)2019\n",
       "4                         microdados  naturalidade     3        1996(1)2019\n",
       "..                               ...           ...   ...                ...\n",
       "567  municipio_causa_idade_sexo_raca      raca_cor     4        1996(1)2019\n",
       "568  municipio_causa_idade_sexo_raca      raca_cor     5        1996(1)2019\n",
       "569  municipio_causa_idade_sexo_raca      raca_cor     6        1996(1)2019\n",
       "570  municipio_causa_idade_sexo_raca      raca_cor     7        1996(1)2019\n",
       "571  municipio_causa_idade_sexo_raca      raca_cor     9        1996(1)2019\n",
       "\n",
       "[572 rows x 4 columns]"
      ]
     },
     "execution_count": 14,
     "metadata": {},
     "output_type": "execute_result"
    }
   ],
   "source": [
    "# Descartar colunas se hover algum valor NaN\n",
    "df_dict.dropna(axis = 1)"
   ]
  },
  {
   "cell_type": "code",
   "execution_count": 15,
   "id": "f428014c",
   "metadata": {},
   "outputs": [
    {
     "data": {
      "text/plain": [
       "id_tabela             object\n",
       "coluna                object\n",
       "chave                 object\n",
       "cobertura_temporal    object\n",
       "valor                 object\n",
       "dtype: object"
      ]
     },
     "execution_count": 15,
     "metadata": {},
     "output_type": "execute_result"
    }
   ],
   "source": [
    "# Consultar tipos de dados do dadaset\n",
    "df_dict.dtypes"
   ]
  },
  {
   "cell_type": "code",
   "execution_count": 16,
   "id": "f470563e",
   "metadata": {},
   "outputs": [
    {
     "data": {
      "text/plain": [
       "0      1996(1)2019\n",
       "1      1996(1)2019\n",
       "2      1996(1)2019\n",
       "3      1996(1)2019\n",
       "4      1996(1)2019\n",
       "          ...     \n",
       "567    1996(1)2019\n",
       "568    1996(1)2019\n",
       "569    1996(1)2019\n",
       "570    1996(1)2019\n",
       "571    1996(1)2019\n",
       "Name: cobertura_temporal, Length: 572, dtype: object"
      ]
     },
     "execution_count": 16,
     "metadata": {},
     "output_type": "execute_result"
    }
   ],
   "source": [
    "# Consultar coluna 'cobertura_temporal'\n",
    "df_dict['cobertura_temporal'] = df_dict['cobertura_temporal'].astype(str)\n",
    "df_dict['cobertura_temporal']"
   ]
  },
  {
   "cell_type": "code",
   "execution_count": 17,
   "id": "069c9404",
   "metadata": {},
   "outputs": [
    {
     "data": {
      "text/plain": [
       "0        tipo_obito\n",
       "1        tipo_obito\n",
       "2      naturalidade\n",
       "3      naturalidade\n",
       "4      naturalidade\n",
       "           ...     \n",
       "567        raca_cor\n",
       "568        raca_cor\n",
       "569        raca_cor\n",
       "570        raca_cor\n",
       "571        raca_cor\n",
       "Name: coluna, Length: 572, dtype: object"
      ]
     },
     "execution_count": 17,
     "metadata": {},
     "output_type": "execute_result"
    }
   ],
   "source": [
    "# Consultar coluna 'cobertura_temporal'\n",
    "df_dict['coluna'] = df_dict['coluna'].astype(str)\n",
    "df_dict['coluna']"
   ]
  },
  {
   "cell_type": "code",
   "execution_count": 18,
   "id": "fa984d44",
   "metadata": {},
   "outputs": [
    {
     "data": {
      "text/plain": [
       "0                           microdados\n",
       "1                           microdados\n",
       "2                           microdados\n",
       "3                           microdados\n",
       "4                           microdados\n",
       "                    ...               \n",
       "567    municipio_causa_idade_sexo_raca\n",
       "568    municipio_causa_idade_sexo_raca\n",
       "569    municipio_causa_idade_sexo_raca\n",
       "570    municipio_causa_idade_sexo_raca\n",
       "571    municipio_causa_idade_sexo_raca\n",
       "Name: id_tabela, Length: 572, dtype: object"
      ]
     },
     "execution_count": 18,
     "metadata": {},
     "output_type": "execute_result"
    }
   ],
   "source": [
    "# Consultar coluna 'id_tabela'\n",
    "df_dict['id_tabela'] = df_dict['id_tabela'].astype(str)\n",
    "df_dict['id_tabela']"
   ]
  },
  {
   "cell_type": "code",
   "execution_count": 19,
   "id": "9ec9cda8",
   "metadata": {},
   "outputs": [
    {
     "name": "stderr",
     "output_type": "stream",
     "text": [
      "Downloading: 100%|██████████| 132868/132868 [00:06<00:00, 21747.21rows/s]\n"
     ]
    }
   ],
   "source": [
    "# Consultar dados por municipio\n",
    "\n",
    "municipio = 'SELECT * FROM basedosdados.br_ms_sim.municipio'\n",
    "\n",
    "df_mun = bd.read_sql(municipio, billing_project_id=project)"
   ]
  },
  {
   "cell_type": "code",
   "execution_count": 20,
   "id": "ff7da2f7",
   "metadata": {},
   "outputs": [
    {
     "data": {
      "text/html": [
       "<div>\n",
       "<style scoped>\n",
       "    .dataframe tbody tr th:only-of-type {\n",
       "        vertical-align: middle;\n",
       "    }\n",
       "\n",
       "    .dataframe tbody tr th {\n",
       "        vertical-align: top;\n",
       "    }\n",
       "\n",
       "    .dataframe thead th {\n",
       "        text-align: right;\n",
       "    }\n",
       "</style>\n",
       "<table border=\"1\" class=\"dataframe\">\n",
       "  <thead>\n",
       "    <tr style=\"text-align: right;\">\n",
       "      <th></th>\n",
       "      <th>ano</th>\n",
       "      <th>sigla_uf</th>\n",
       "      <th>id_municipio</th>\n",
       "      <th>numero_obitos</th>\n",
       "    </tr>\n",
       "  </thead>\n",
       "  <tbody>\n",
       "    <tr>\n",
       "      <th>0</th>\n",
       "      <td>1996</td>\n",
       "      <td>GO</td>\n",
       "      <td>5200000</td>\n",
       "      <td>279</td>\n",
       "    </tr>\n",
       "    <tr>\n",
       "      <th>1</th>\n",
       "      <td>1996</td>\n",
       "      <td>GO</td>\n",
       "      <td>5200100</td>\n",
       "      <td>38</td>\n",
       "    </tr>\n",
       "    <tr>\n",
       "      <th>2</th>\n",
       "      <td>1996</td>\n",
       "      <td>GO</td>\n",
       "      <td>5200134</td>\n",
       "      <td>45</td>\n",
       "    </tr>\n",
       "    <tr>\n",
       "      <th>3</th>\n",
       "      <td>1996</td>\n",
       "      <td>GO</td>\n",
       "      <td>5200159</td>\n",
       "      <td>8</td>\n",
       "    </tr>\n",
       "    <tr>\n",
       "      <th>4</th>\n",
       "      <td>1996</td>\n",
       "      <td>GO</td>\n",
       "      <td>5200175</td>\n",
       "      <td>7</td>\n",
       "    </tr>\n",
       "    <tr>\n",
       "      <th>...</th>\n",
       "      <td>...</td>\n",
       "      <td>...</td>\n",
       "      <td>...</td>\n",
       "      <td>...</td>\n",
       "    </tr>\n",
       "    <tr>\n",
       "      <th>132863</th>\n",
       "      <td>2010</td>\n",
       "      <td>SC</td>\n",
       "      <td>4219408</td>\n",
       "      <td>24</td>\n",
       "    </tr>\n",
       "    <tr>\n",
       "      <th>132864</th>\n",
       "      <td>2010</td>\n",
       "      <td>SC</td>\n",
       "      <td>4219507</td>\n",
       "      <td>248</td>\n",
       "    </tr>\n",
       "    <tr>\n",
       "      <th>132865</th>\n",
       "      <td>2010</td>\n",
       "      <td>SC</td>\n",
       "      <td>4219606</td>\n",
       "      <td>36</td>\n",
       "    </tr>\n",
       "    <tr>\n",
       "      <th>132866</th>\n",
       "      <td>2010</td>\n",
       "      <td>SC</td>\n",
       "      <td>4219705</td>\n",
       "      <td>142</td>\n",
       "    </tr>\n",
       "    <tr>\n",
       "      <th>132867</th>\n",
       "      <td>2010</td>\n",
       "      <td>SC</td>\n",
       "      <td>4219853</td>\n",
       "      <td>14</td>\n",
       "    </tr>\n",
       "  </tbody>\n",
       "</table>\n",
       "<p>132868 rows × 4 columns</p>\n",
       "</div>"
      ],
      "text/plain": [
       "         ano sigla_uf id_municipio  numero_obitos\n",
       "0       1996       GO      5200000            279\n",
       "1       1996       GO      5200100             38\n",
       "2       1996       GO      5200134             45\n",
       "3       1996       GO      5200159              8\n",
       "4       1996       GO      5200175              7\n",
       "...      ...      ...          ...            ...\n",
       "132863  2010       SC      4219408             24\n",
       "132864  2010       SC      4219507            248\n",
       "132865  2010       SC      4219606             36\n",
       "132866  2010       SC      4219705            142\n",
       "132867  2010       SC      4219853             14\n",
       "\n",
       "[132868 rows x 4 columns]"
      ]
     },
     "execution_count": 20,
     "metadata": {},
     "output_type": "execute_result"
    }
   ],
   "source": [
    "df_mun"
   ]
  },
  {
   "cell_type": "code",
   "execution_count": 21,
   "id": "752b8f63",
   "metadata": {},
   "outputs": [
    {
     "data": {
      "text/plain": [
       "(132868, 4)"
      ]
     },
     "execution_count": 21,
     "metadata": {},
     "output_type": "execute_result"
    }
   ],
   "source": [
    "# Verificar quantidade de linhas e colunas do DataFrame\n",
    "df_mun.shape"
   ]
  },
  {
   "cell_type": "code",
   "execution_count": 22,
   "id": "3bfeffe7",
   "metadata": {},
   "outputs": [
    {
     "data": {
      "text/plain": [
       "RangeIndex(start=0, stop=132868, step=1)"
      ]
     },
     "execution_count": 22,
     "metadata": {},
     "output_type": "execute_result"
    }
   ],
   "source": [
    "# Descrever Index\n",
    "df_mun.index"
   ]
  },
  {
   "cell_type": "code",
   "execution_count": 54,
   "id": "f0e8c062",
   "metadata": {},
   "outputs": [
    {
     "data": {
      "text/plain": [
       "ano                 1996\n",
       "sigla_uf              GO\n",
       "id_municipio     5200000\n",
       "numero_obitos        279\n",
       "Name: 0, dtype: object"
      ]
     },
     "execution_count": 54,
     "metadata": {},
     "output_type": "execute_result"
    }
   ],
   "source": [
    "# Selecionar 1ª linha do dataset\n",
    "df_mun.iloc[0]"
   ]
  },
  {
   "cell_type": "code",
   "execution_count": 55,
   "id": "d3b64e5c",
   "metadata": {},
   "outputs": [
    {
     "data": {
      "text/plain": [
       "ano                 2010\n",
       "sigla_uf              SC\n",
       "id_municipio     4219853\n",
       "numero_obitos         14\n",
       "Name: 132867, dtype: object"
      ]
     },
     "execution_count": 55,
     "metadata": {},
     "output_type": "execute_result"
    }
   ],
   "source": [
    "# Selecionar última linha do dataset\n",
    "df_mun.iloc[-1]"
   ]
  },
  {
   "cell_type": "code",
   "execution_count": 24,
   "id": "48a0383c",
   "metadata": {},
   "outputs": [
    {
     "data": {
      "text/plain": [
       "ano              132868\n",
       "sigla_uf         132868\n",
       "id_municipio     132868\n",
       "numero_obitos    132868\n",
       "dtype: int64"
      ]
     },
     "execution_count": 24,
     "metadata": {},
     "output_type": "execute_result"
    }
   ],
   "source": [
    "# Contar os dados não-nulos\n",
    "df_mun.count()"
   ]
  },
  {
   "cell_type": "code",
   "execution_count": 23,
   "id": "4d503420",
   "metadata": {},
   "outputs": [
    {
     "data": {
      "text/plain": [
       "Index(['ano', 'sigla_uf', 'id_municipio', 'numero_obitos'], dtype='object')"
      ]
     },
     "execution_count": 23,
     "metadata": {},
     "output_type": "execute_result"
    }
   ],
   "source": [
    "# Visualizar colunas presentes no DataFrame\n",
    "df_mun.columns"
   ]
  },
  {
   "cell_type": "code",
   "execution_count": 66,
   "id": "d0dd246b",
   "metadata": {},
   "outputs": [
    {
     "data": {
      "text/plain": [
       "<IntegerArray>\n",
       "[1996, 1997, 1998, 1999, 2000, 2001, 2002, 2003, 2004, 2005, 2006, 2007, 2008,\n",
       " 2009, 2010, 2011, 2012, 2013, 2014, 2015, 2016, 2017, 2018, 2019]\n",
       "Length: 24, dtype: Int64"
      ]
     },
     "execution_count": 66,
     "metadata": {},
     "output_type": "execute_result"
    }
   ],
   "source": [
    "# Consultar todos os dados da coluna ano\n",
    "df_mun.ano.unique()"
   ]
  },
  {
   "cell_type": "code",
   "execution_count": 67,
   "id": "607b7ceb",
   "metadata": {},
   "outputs": [
    {
     "data": {
      "text/plain": [
       "array(['GO', 'AL', 'CE', 'MA', 'PB', 'BA', 'AP', 'DF', 'ES', 'MG', 'MT',\n",
       "       'RO', 'RN', 'RR', 'PI', 'AM', 'MS', 'PE', 'PA', 'RJ', 'SC', 'SE',\n",
       "       'AC', 'RS', 'TO', 'SP', 'PR'], dtype=object)"
      ]
     },
     "execution_count": 67,
     "metadata": {},
     "output_type": "execute_result"
    }
   ],
   "source": [
    "# Consultar todos os dados da coluna sigla_uf\n",
    "df_mun.sigla_uf.unique()"
   ]
  },
  {
   "cell_type": "code",
   "execution_count": 25,
   "id": "b8c56ada",
   "metadata": {},
   "outputs": [
    {
     "data": {
      "text/plain": [
       "ano                 2019\n",
       "sigla_uf              TO\n",
       "id_municipio     5306006\n",
       "numero_obitos      78581\n",
       "dtype: object"
      ]
     },
     "execution_count": 25,
     "metadata": {},
     "output_type": "execute_result"
    }
   ],
   "source": [
    "# Consultar municipio e ano com maior número de obitos\n",
    "df_mun.max()"
   ]
  },
  {
   "cell_type": "code",
   "execution_count": 26,
   "id": "770527b0",
   "metadata": {},
   "outputs": [
    {
     "data": {
      "text/plain": [
       "ano                 1996\n",
       "sigla_uf              AC\n",
       "id_municipio     1100000\n",
       "numero_obitos          1\n",
       "dtype: object"
      ]
     },
     "execution_count": 26,
     "metadata": {},
     "output_type": "execute_result"
    }
   ],
   "source": [
    "# Consultar municipio e ano com menor número de obitos\n",
    "df_mun.min()"
   ]
  },
  {
   "cell_type": "code",
   "execution_count": 27,
   "id": "ea0bf0c3",
   "metadata": {},
   "outputs": [
    {
     "data": {
      "text/plain": [
       "26294649"
      ]
     },
     "execution_count": 27,
     "metadata": {},
     "output_type": "execute_result"
    }
   ],
   "source": [
    "# Consultar Total de obitos \n",
    "Total_obito = df_mun['numero_obitos']\n",
    "Total_obito.sum()"
   ]
  },
  {
   "cell_type": "code",
   "execution_count": 28,
   "id": "dbb75819",
   "metadata": {},
   "outputs": [
    {
     "data": {
      "text/plain": [
       "count    132868.000000\n",
       "mean        197.900540\n",
       "std        1311.796029\n",
       "min           1.000000\n",
       "25%          27.000000\n",
       "50%          57.000000\n",
       "75%         129.000000\n",
       "max       78581.000000\n",
       "Name: numero_obitos, dtype: float64"
      ]
     },
     "execution_count": 28,
     "metadata": {},
     "output_type": "execute_result"
    }
   ],
   "source": [
    "# Consultar estatística dos dados\n",
    "Total_obito.describe()"
   ]
  },
  {
   "cell_type": "code",
   "execution_count": 29,
   "id": "954506f8",
   "metadata": {},
   "outputs": [
    {
     "data": {
      "image/png": "[encoded data removed]",
      "text/plain": [
       "<Figure size 576x288 with 1 Axes>"
      ]
     },
     "metadata": {},
     "output_type": "display_data"
    }
   ],
   "source": [
    "# Plot do Boxplot\n",
    "box = sns.boxplot(df_mun['numero_obitos']);\n",
    "box.figure.set_size_inches(8, 4)"
   ]
  },
  {
   "cell_type": "code",
   "execution_count": 30,
   "id": "d32e5db9",
   "metadata": {},
   "outputs": [
    {
     "data": {
      "text/html": [
       "<div>\n",
       "<style scoped>\n",
       "    .dataframe tbody tr th:only-of-type {\n",
       "        vertical-align: middle;\n",
       "    }\n",
       "\n",
       "    .dataframe tbody tr th {\n",
       "        vertical-align: top;\n",
       "    }\n",
       "\n",
       "    .dataframe thead th {\n",
       "        text-align: right;\n",
       "    }\n",
       "</style>\n",
       "<table border=\"1\" class=\"dataframe\">\n",
       "  <thead>\n",
       "    <tr style=\"text-align: right;\">\n",
       "      <th></th>\n",
       "      <th>ano</th>\n",
       "      <th>numero_obitos</th>\n",
       "    </tr>\n",
       "  </thead>\n",
       "  <tbody>\n",
       "    <tr>\n",
       "      <th>ano</th>\n",
       "      <td>1.000000</td>\n",
       "      <td>0.017774</td>\n",
       "    </tr>\n",
       "    <tr>\n",
       "      <th>numero_obitos</th>\n",
       "      <td>0.017774</td>\n",
       "      <td>1.000000</td>\n",
       "    </tr>\n",
       "  </tbody>\n",
       "</table>\n",
       "</div>"
      ],
      "text/plain": [
       "                    ano  numero_obitos\n",
       "ano            1.000000       0.017774\n",
       "numero_obitos  0.017774       1.000000"
      ]
     },
     "execution_count": 30,
     "metadata": {},
     "output_type": "execute_result"
    }
   ],
   "source": [
    "# Analisar correlação \n",
    "\n",
    "# Aplicação do método de correlação de Person = o valor de 0 indica que não há associação entre as duas variáveis.\n",
    "# Um valor maior que 0 indica uma associação positiva\n",
    "df_mun.corr()"
   ]
  },
  {
   "cell_type": "code",
   "execution_count": 31,
   "id": "b7c88066",
   "metadata": {},
   "outputs": [
    {
     "data": {
      "text/plain": [
       "<AxesSubplot:>"
      ]
     },
     "execution_count": 31,
     "metadata": {},
     "output_type": "execute_result"
    },
    {
     "data": {
      "image/png": "[encoded data removed]",
      "text/plain": [
       "<Figure size 432x288 with 2 Axes>"
      ]
     },
     "metadata": {},
     "output_type": "display_data"
    }
   ],
   "source": [
    "sns.heatmap(df_mun.corr(), annot=True)"
   ]
  },
  {
   "cell_type": "code",
   "execution_count": 32,
   "id": "f9742527",
   "metadata": {},
   "outputs": [
    {
     "data": {
      "text/html": [
       "<div>\n",
       "<style scoped>\n",
       "    .dataframe tbody tr th:only-of-type {\n",
       "        vertical-align: middle;\n",
       "    }\n",
       "\n",
       "    .dataframe tbody tr th {\n",
       "        vertical-align: top;\n",
       "    }\n",
       "\n",
       "    .dataframe thead th {\n",
       "        text-align: right;\n",
       "    }\n",
       "</style>\n",
       "<table border=\"1\" class=\"dataframe\">\n",
       "  <thead>\n",
       "    <tr style=\"text-align: right;\">\n",
       "      <th></th>\n",
       "      <th>ano</th>\n",
       "      <th>numero_obitos</th>\n",
       "    </tr>\n",
       "  </thead>\n",
       "  <tbody>\n",
       "    <tr>\n",
       "      <th>ano</th>\n",
       "      <td>1.000000</td>\n",
       "      <td>0.145514</td>\n",
       "    </tr>\n",
       "    <tr>\n",
       "      <th>numero_obitos</th>\n",
       "      <td>0.145514</td>\n",
       "      <td>1.000000</td>\n",
       "    </tr>\n",
       "  </tbody>\n",
       "</table>\n",
       "</div>"
      ],
      "text/plain": [
       "                    ano  numero_obitos\n",
       "ano            1.000000       0.145514\n",
       "numero_obitos  0.145514       1.000000"
      ]
     },
     "execution_count": 32,
     "metadata": {},
     "output_type": "execute_result"
    }
   ],
   "source": [
    "# Aplicação do método de correlação de Spearman - segue uma lógica monotética\n",
    "\n",
    "df_mun.corr('spearman')"
   ]
  },
  {
   "cell_type": "code",
   "execution_count": 33,
   "id": "c08e3d13",
   "metadata": {},
   "outputs": [
    {
     "data": {
      "text/plain": [
       "<AxesSubplot:>"
      ]
     },
     "execution_count": 33,
     "metadata": {},
     "output_type": "execute_result"
    },
    {
     "data": {
      "image/png": "[encoded data removed]",
      "text/plain": [
       "<Figure size 432x288 with 2 Axes>"
      ]
     },
     "metadata": {},
     "output_type": "display_data"
    }
   ],
   "source": [
    "sns.heatmap( df_mun.corr( 'spearman' ), annot=True )"
   ]
  },
  {
   "cell_type": "code",
   "execution_count": 34,
   "id": "05dfb6aa",
   "metadata": {},
   "outputs": [
    {
     "data": {
      "image/png": "[encoded data removed]",
      "text/plain": [
       "<Figure size 864x576 with 1 Axes>"
      ]
     },
     "metadata": {},
     "output_type": "display_data"
    }
   ],
   "source": [
    "# Correlação de números de obitos por ano\n",
    "scatt = sns.scatterplot( data=df_mun, x='ano', y='numero_obitos')\n",
    "scatt.figure.set_size_inches(12, 8)\n",
    "# Observer que a variação é muito pequena em relação ao método de Peson "
   ]
  },
  {
   "cell_type": "code",
   "execution_count": 35,
   "id": "11e60757",
   "metadata": {},
   "outputs": [
    {
     "data": {
      "image/png": "[encoded data removed]",
      "text/plain": [
       "<Figure size 864x576 with 1 Axes>"
      ]
     },
     "metadata": {},
     "output_type": "display_data"
    }
   ],
   "source": [
    "# Histograma de número de obitos por estado\n",
    "\n",
    "grafico = sns.histplot( data=df_mun, x='sigla_uf')\n",
    "grafico.figure.set_size_inches(12, 8)"
   ]
  },
  {
   "cell_type": "code",
   "execution_count": 85,
   "id": "0643f808",
   "metadata": {},
   "outputs": [
    {
     "data": {
      "image/png": "[encoded data removed]",
      "text/plain": [
       "<Figure size 2304x576 with 6 Axes>"
      ]
     },
     "metadata": {},
     "output_type": "display_data"
    }
   ],
   "source": [
    "sns.pairplot(df_mun, height = 4, aspect = 4);"
   ]
  },
  {
   "cell_type": "code",
   "execution_count": null,
   "id": "e6f78ed0",
   "metadata": {},
   "outputs": [],
   "source": []
  }
 ],
 "metadata": {
  "kernelspec": {
   "display_name": "Python 3",
   "language": "python",
   "name": "python3"
  }
 },
 "nbformat": 4,
 "nbformat_minor": 5
}
